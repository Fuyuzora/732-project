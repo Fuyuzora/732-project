{
 "cells": [
  {
   "cell_type": "code",
   "execution_count": 1,
   "metadata": {},
   "outputs": [],
   "source": [
    "import os\n",
    "import numpy as np\n",
    "import pandas as pd\n",
    "import matplotlib.pyplot as plt\n",
    "import seaborn as sns\n",
    "from sklearn.preprocessing import MinMaxScaler\n",
    "from sklearn.cluster import KMeans\n",
    "from sklearn.decomposition import PCA\n",
    "# from sklearn.model_selection import train_test_split "
   ]
  },
  {
   "cell_type": "code",
   "execution_count": 2,
   "metadata": {},
   "outputs": [
    {
     "name": "stdout",
     "output_type": "stream",
     "text": [
      "part-00000-26005234-573b-40dd-bc2c-cfeebc247dce-c000.csv\n",
      "part-00001-26005234-573b-40dd-bc2c-cfeebc247dce-c000.csv\n",
      "part-00002-26005234-573b-40dd-bc2c-cfeebc247dce-c000.csv\n",
      "part-00003-26005234-573b-40dd-bc2c-cfeebc247dce-c000.csv\n",
      "part-00004-26005234-573b-40dd-bc2c-cfeebc247dce-c000.csv\n",
      "part-00005-26005234-573b-40dd-bc2c-cfeebc247dce-c000.csv\n",
      "part-00006-26005234-573b-40dd-bc2c-cfeebc247dce-c000.csv\n",
      "part-00007-26005234-573b-40dd-bc2c-cfeebc247dce-c000.csv\n"
     ]
    }
   ],
   "source": [
    "dataset_dir = '../PySpark/ETL_result'\n",
    "dir_contents = os.listdir(dataset_dir)\n",
    "dir_contents.sort()\n",
    "for f in dir_contents:\n",
    "\tprint(f) if f.endswith('.csv') else None"
   ]
  },
  {
   "cell_type": "code",
   "execution_count": 3,
   "metadata": {},
   "outputs": [],
   "source": [
    "twitter_col = ['account_id', 'followers_count', 'following_count', \\\n",
    "    'post_count', 'listed_count', 'active_date']\n",
    "df = pd.DataFrame(columns = twitter_col)\n",
    "\n",
    "for f in dir_contents:\n",
    "    if f.endswith('.csv'):\n",
    "        df1 = pd.read_csv(dataset_dir + '/' + f, names = twitter_col)\n",
    "        df = pd.concat([df, df1])"
   ]
  },
  {
   "cell_type": "code",
   "execution_count": 4,
   "metadata": {},
   "outputs": [
    {
     "data": {
      "text/plain": [
       "account_id         50\n",
       "followers_count     3\n",
       "following_count     4\n",
       "post_count          2\n",
       "listed_count        1\n",
       "active_date        81\n",
       "dtype: int64"
      ]
     },
     "execution_count": 4,
     "metadata": {},
     "output_type": "execute_result"
    }
   ],
   "source": [
    "df.isnull().sum()"
   ]
  },
  {
   "cell_type": "code",
   "execution_count": 6,
   "metadata": {},
   "outputs": [
    {
     "name": "stdout",
     "output_type": "stream",
     "text": [
      "<class 'pandas.core.frame.DataFrame'>\n",
      "Int64Index: 134978 entries, 0 to 8087\n",
      "Data columns (total 6 columns):\n",
      " #   Column           Non-Null Count   Dtype  \n",
      "---  ------           --------------   -----  \n",
      " 0   account_id       134978 non-null  float64\n",
      " 1   followers_count  134978 non-null  float64\n",
      " 2   following_count  134978 non-null  float64\n",
      " 3   post_count       134978 non-null  object \n",
      " 4   listed_count     134978 non-null  object \n",
      " 5   active_date      134978 non-null  float64\n",
      "dtypes: float64(4), object(2)\n",
      "memory usage: 7.2+ MB\n"
     ]
    }
   ],
   "source": [
    "df.dropna(subset = ['account_id'], inplace=True)\n",
    "df['active_date'].fillna(df['active_date'].mean(), inplace=True)\n",
    "df.info()"
   ]
  },
  {
   "cell_type": "code",
   "execution_count": 7,
   "metadata": {},
   "outputs": [
    {
     "name": "stdout",
     "output_type": "stream",
     "text": [
      "<class 'pandas.core.frame.DataFrame'>\n",
      "Int64Index: 134978 entries, 0 to 8087\n",
      "Data columns (total 6 columns):\n",
      " #   Column           Non-Null Count   Dtype  \n",
      "---  ------           --------------   -----  \n",
      " 0   account_id       134978 non-null  float64\n",
      " 1   followers_count  134978 non-null  float64\n",
      " 2   following_count  134978 non-null  float64\n",
      " 3   post_count       134978 non-null  float64\n",
      " 4   listed_count     134978 non-null  float64\n",
      " 5   active_date      134978 non-null  float64\n",
      "dtypes: float64(6)\n",
      "memory usage: 7.2 MB\n",
      "None\n",
      "   account_id  followers_count  following_count  post_count  listed_count  \\\n",
      "0     58633.0           4155.0           4395.0     12823.0          72.0   \n",
      "1     60453.0            438.0            757.0       515.0           9.0   \n",
      "2     72373.0           4295.0           4728.0     16282.0         166.0   \n",
      "3    658723.0            559.0             15.0      5991.0          25.0   \n",
      "4    790886.0            877.0            415.0     11320.0          42.0   \n",
      "\n",
      "   active_date  \n",
      "0       2470.0  \n",
      "1       2448.0  \n",
      "2       2469.0  \n",
      "3       2443.0  \n",
      "4       2408.0  \n"
     ]
    }
   ],
   "source": [
    "df['post_count'] = df['post_count'].astype(float)\n",
    "df['listed_count'] = df['listed_count'].astype(float)\n",
    "print(df.info())\n",
    "print(df.head())"
   ]
  },
  {
   "cell_type": "code",
   "execution_count": 8,
   "metadata": {},
   "outputs": [
    {
     "name": "stdout",
     "output_type": "stream",
     "text": [
      "<class 'pandas.core.frame.DataFrame'>\n",
      "Int64Index: 134978 entries, 0 to 8087\n",
      "Data columns (total 5 columns):\n",
      " #   Column           Non-Null Count   Dtype  \n",
      "---  ------           --------------   -----  \n",
      " 0   followers_count  134978 non-null  float64\n",
      " 1   following_count  134978 non-null  float64\n",
      " 2   post_count       134978 non-null  float64\n",
      " 3   listed_count     134978 non-null  float64\n",
      " 4   active_date      134978 non-null  float64\n",
      "dtypes: float64(5)\n",
      "memory usage: 6.2 MB\n",
      "None\n",
      "   followers_count  following_count  post_count  listed_count  active_date\n",
      "0           4155.0           4395.0     12823.0          72.0       2470.0\n",
      "1            438.0            757.0       515.0           9.0       2448.0\n",
      "2           4295.0           4728.0     16282.0         166.0       2469.0\n",
      "3            559.0             15.0      5991.0          25.0       2443.0\n",
      "4            877.0            415.0     11320.0          42.0       2408.0\n"
     ]
    }
   ],
   "source": [
    "features = df.iloc[:,1:]\n",
    "print(features.info())\n",
    "print(features.head())"
   ]
  },
  {
   "cell_type": "code",
   "execution_count": 9,
   "metadata": {},
   "outputs": [
    {
     "name": "stdout",
     "output_type": "stream",
     "text": [
      "Normalized Features\n",
      "   followers_count  following_count  post_count  listed_count  active_date\n",
      "0         0.002965         0.014794    0.053798  1.849950e-16     1.000000\n",
      "1         0.000313         0.002548    0.002161  2.312437e-17     0.991093\n",
      "2         0.003065         0.015915    0.068310  4.265162e-16     0.999595\n",
      "3         0.000399         0.000050    0.025135  6.423436e-17     0.989069\n",
      "4         0.000626         0.001397    0.047492  1.079137e-16     0.974899\n"
     ]
    }
   ],
   "source": [
    "features_norm = MinMaxScaler().fit_transform(features)\n",
    "features_norm = pd.DataFrame(features_norm, columns = list(features.columns))\n",
    "print('Normalized Features')\n",
    "print(features_norm.head())"
   ]
  },
  {
   "cell_type": "code",
   "execution_count": 10,
   "metadata": {},
   "outputs": [
    {
     "data": {
      "image/png": "[encoded data removed]",
      "text/plain": [
       "<Figure size 864x864 with 1 Axes>"
      ]
     },
     "metadata": {
      "needs_background": "light"
     },
     "output_type": "display_data"
    }
   ],
   "source": [
    "# use PCA to convert dimension to 2\n",
    "pca = PCA(2)\n",
    "data = pca.fit_transform(features_norm)\n",
    "\n",
    "# fitting multiple k-means algorithms\n",
    "k = 15\n",
    "model = KMeans(n_clusters = k, init='k-means++')\n",
    "model.fit(data)\n",
    "pred = model.predict(data)\n",
    "uniq = np.unique(pred)\n",
    "\n",
    "centers = np.array(model.cluster_centers_)\n",
    "\n",
    "# plot clusters\n",
    "plt.figure(figsize=(12,12))\n",
    "\n",
    "for i in uniq:\n",
    "   plt.annotate(i, (centers[:,0][i], centers[:,1][i]), fontsize=18)\n",
    "   plt.scatter(data[pred == i , 0], data[pred == i , 1], s = 2, label = i)\n",
    "plt.scatter(centers[:,0], centers[:,1], marker='x', color='k')\n",
    "plt.legend()\n",
    "plt.show()"
   ]
  },
  {
   "cell_type": "code",
   "execution_count": 11,
   "metadata": {},
   "outputs": [
    {
     "name": "stdout",
     "output_type": "stream",
     "text": [
      "Cluster counts\n",
      "0     54784\n",
      "11    15671\n",
      "6     11092\n",
      "3      9062\n",
      "12     8272\n",
      "4      7733\n",
      "9      6485\n",
      "1      5862\n",
      "5      4737\n",
      "13     4310\n",
      "2      3253\n",
      "14     2828\n",
      "10      359\n",
      "8       336\n",
      "7       194\n",
      "Name: cluster, dtype: int64\n"
     ]
    }
   ],
   "source": [
    "frame = features.copy()\n",
    "frame['cluster'] = pred\n",
    "print('Cluster counts')\n",
    "print(frame['cluster'].value_counts())"
   ]
  },
  {
   "cell_type": "code",
   "execution_count": 30,
   "metadata": {},
   "outputs": [],
   "source": [
    "center = frame.groupby(['cluster']).mean()\n",
    "center['cluster'] = uniq\n",
    "center = center.sort_values(['followers_count','listed_count','post_count'], ascending=True)\n",
    "# add ranking\n",
    "center['rank'] = uniq + 1\n",
    "center.to_json('center_location.json', orient='records', lines=True)\n"
   ]
  },
  {
   "cell_type": "code",
   "execution_count": 31,
   "metadata": {},
   "outputs": [
    {
     "data": {
      "text/html": [
       "<div>\n",
       "<style scoped>\n",
       "    .dataframe tbody tr th:only-of-type {\n",
       "        vertical-align: middle;\n",
       "    }\n",
       "\n",
       "    .dataframe tbody tr th {\n",
       "        vertical-align: top;\n",
       "    }\n",
       "\n",
       "    .dataframe thead th {\n",
       "        text-align: right;\n",
       "    }\n",
       "</style>\n",
       "<table border=\"1\" class=\"dataframe\">\n",
       "  <thead>\n",
       "    <tr style=\"text-align: right;\">\n",
       "      <th></th>\n",
       "      <th>followers_count</th>\n",
       "      <th>following_count</th>\n",
       "      <th>post_count</th>\n",
       "      <th>listed_count</th>\n",
       "      <th>active_date</th>\n",
       "      <th>cluster</th>\n",
       "      <th>rank</th>\n",
       "    </tr>\n",
       "    <tr>\n",
       "      <th>cluster</th>\n",
       "      <th></th>\n",
       "      <th></th>\n",
       "      <th></th>\n",
       "      <th></th>\n",
       "      <th></th>\n",
       "      <th></th>\n",
       "      <th></th>\n",
       "    </tr>\n",
       "  </thead>\n",
       "  <tbody>\n",
       "    <tr>\n",
       "      <th>0</th>\n",
       "      <td>8.849682</td>\n",
       "      <td>27.197466</td>\n",
       "      <td>11.607057</td>\n",
       "      <td>4.484886e-02</td>\n",
       "      <td>7.368721</td>\n",
       "      <td>0</td>\n",
       "      <td>1</td>\n",
       "    </tr>\n",
       "    <tr>\n",
       "      <th>11</th>\n",
       "      <td>34.737222</td>\n",
       "      <td>73.272159</td>\n",
       "      <td>119.201965</td>\n",
       "      <td>1.311339e-01</td>\n",
       "      <td>86.298896</td>\n",
       "      <td>11</td>\n",
       "      <td>2</td>\n",
       "    </tr>\n",
       "    <tr>\n",
       "      <th>6</th>\n",
       "      <td>53.637937</td>\n",
       "      <td>97.470429</td>\n",
       "      <td>279.139019</td>\n",
       "      <td>2.078976e-01</td>\n",
       "      <td>186.738009</td>\n",
       "      <td>6</td>\n",
       "      <td>3</td>\n",
       "    </tr>\n",
       "    <tr>\n",
       "      <th>3</th>\n",
       "      <td>82.305010</td>\n",
       "      <td>118.317480</td>\n",
       "      <td>482.535533</td>\n",
       "      <td>4.294855e+13</td>\n",
       "      <td>299.082115</td>\n",
       "      <td>3</td>\n",
       "      <td>4</td>\n",
       "    </tr>\n",
       "    <tr>\n",
       "      <th>12</th>\n",
       "      <td>121.154618</td>\n",
       "      <td>135.848767</td>\n",
       "      <td>688.095503</td>\n",
       "      <td>4.055851e-01</td>\n",
       "      <td>419.984163</td>\n",
       "      <td>12</td>\n",
       "      <td>5</td>\n",
       "    </tr>\n",
       "    <tr>\n",
       "      <th>4</th>\n",
       "      <td>139.076038</td>\n",
       "      <td>169.315402</td>\n",
       "      <td>927.102289</td>\n",
       "      <td>6.949437e-01</td>\n",
       "      <td>553.663132</td>\n",
       "      <td>4</td>\n",
       "      <td>6</td>\n",
       "    </tr>\n",
       "    <tr>\n",
       "      <th>9</th>\n",
       "      <td>146.210794</td>\n",
       "      <td>164.052274</td>\n",
       "      <td>1060.429761</td>\n",
       "      <td>9.165767e-01</td>\n",
       "      <td>694.062760</td>\n",
       "      <td>9</td>\n",
       "      <td>7</td>\n",
       "    </tr>\n",
       "    <tr>\n",
       "      <th>5</th>\n",
       "      <td>158.060376</td>\n",
       "      <td>184.185138</td>\n",
       "      <td>1438.649778</td>\n",
       "      <td>1.591936e+00</td>\n",
       "      <td>1002.552459</td>\n",
       "      <td>5</td>\n",
       "      <td>8</td>\n",
       "    </tr>\n",
       "    <tr>\n",
       "      <th>1</th>\n",
       "      <td>189.096554</td>\n",
       "      <td>191.737291</td>\n",
       "      <td>1215.886216</td>\n",
       "      <td>1.066701e+00</td>\n",
       "      <td>839.530024</td>\n",
       "      <td>1</td>\n",
       "      <td>9</td>\n",
       "    </tr>\n",
       "    <tr>\n",
       "      <th>2</th>\n",
       "      <td>207.419920</td>\n",
       "      <td>216.472180</td>\n",
       "      <td>1864.845681</td>\n",
       "      <td>3.898555e+00</td>\n",
       "      <td>1382.169690</td>\n",
       "      <td>2</td>\n",
       "      <td>10</td>\n",
       "    </tr>\n",
       "    <tr>\n",
       "      <th>13</th>\n",
       "      <td>247.815545</td>\n",
       "      <td>255.076102</td>\n",
       "      <td>1701.321114</td>\n",
       "      <td>2.837819e+00</td>\n",
       "      <td>1187.920882</td>\n",
       "      <td>13</td>\n",
       "      <td>11</td>\n",
       "    </tr>\n",
       "    <tr>\n",
       "      <th>14</th>\n",
       "      <td>422.231259</td>\n",
       "      <td>296.287129</td>\n",
       "      <td>2452.173621</td>\n",
       "      <td>7.739745e+00</td>\n",
       "      <td>1595.356436</td>\n",
       "      <td>14</td>\n",
       "      <td>12</td>\n",
       "    </tr>\n",
       "    <tr>\n",
       "      <th>8</th>\n",
       "      <td>1016.020833</td>\n",
       "      <td>1265.244048</td>\n",
       "      <td>4197.553571</td>\n",
       "      <td>2.302976e+01</td>\n",
       "      <td>2019.193452</td>\n",
       "      <td>8</td>\n",
       "      <td>13</td>\n",
       "    </tr>\n",
       "    <tr>\n",
       "      <th>10</th>\n",
       "      <td>1523.596100</td>\n",
       "      <td>842.671309</td>\n",
       "      <td>39603.885794</td>\n",
       "      <td>1.822841e+01</td>\n",
       "      <td>843.991643</td>\n",
       "      <td>10</td>\n",
       "      <td>14</td>\n",
       "    </tr>\n",
       "    <tr>\n",
       "      <th>7</th>\n",
       "      <td>13067.716495</td>\n",
       "      <td>4118.221649</td>\n",
       "      <td>57087.819588</td>\n",
       "      <td>2.608093e+02</td>\n",
       "      <td>1428.201031</td>\n",
       "      <td>7</td>\n",
       "      <td>15</td>\n",
       "    </tr>\n",
       "  </tbody>\n",
       "</table>\n",
       "</div>"
      ],
      "text/plain": [
       "         followers_count  following_count    post_count  listed_count  \\\n",
       "cluster                                                                 \n",
       "0               8.849682        27.197466     11.607057  4.484886e-02   \n",
       "11             34.737222        73.272159    119.201965  1.311339e-01   \n",
       "6              53.637937        97.470429    279.139019  2.078976e-01   \n",
       "3              82.305010       118.317480    482.535533  4.294855e+13   \n",
       "12            121.154618       135.848767    688.095503  4.055851e-01   \n",
       "4             139.076038       169.315402    927.102289  6.949437e-01   \n",
       "9             146.210794       164.052274   1060.429761  9.165767e-01   \n",
       "5             158.060376       184.185138   1438.649778  1.591936e+00   \n",
       "1             189.096554       191.737291   1215.886216  1.066701e+00   \n",
       "2             207.419920       216.472180   1864.845681  3.898555e+00   \n",
       "13            247.815545       255.076102   1701.321114  2.837819e+00   \n",
       "14            422.231259       296.287129   2452.173621  7.739745e+00   \n",
       "8            1016.020833      1265.244048   4197.553571  2.302976e+01   \n",
       "10           1523.596100       842.671309  39603.885794  1.822841e+01   \n",
       "7           13067.716495      4118.221649  57087.819588  2.608093e+02   \n",
       "\n",
       "         active_date  cluster  rank  \n",
       "cluster                              \n",
       "0           7.368721        0     1  \n",
       "11         86.298896       11     2  \n",
       "6         186.738009        6     3  \n",
       "3         299.082115        3     4  \n",
       "12        419.984163       12     5  \n",
       "4         553.663132        4     6  \n",
       "9         694.062760        9     7  \n",
       "5        1002.552459        5     8  \n",
       "1         839.530024        1     9  \n",
       "2        1382.169690        2    10  \n",
       "13       1187.920882       13    11  \n",
       "14       1595.356436       14    12  \n",
       "8        2019.193452        8    13  \n",
       "10        843.991643       10    14  \n",
       "7        1428.201031        7    15  "
      ]
     },
     "execution_count": 31,
     "metadata": {},
     "output_type": "execute_result"
    }
   ],
   "source": [
    "center"
   ]
  },
  {
   "cell_type": "code",
   "execution_count": null,
   "metadata": {},
   "outputs": [],
   "source": []
  }
 ],
 "metadata": {
  "interpreter": {
   "hash": "30fcf8375a911988847239f8b1d910048c7f49d397e9dba57fae4f07f94d9e2f"
  },
  "kernelspec": {
   "display_name": "Python 3.9.7 64-bit ('pyspark_env': conda)",
   "language": "python",
   "name": "python3"
  },
  "language_info": {
   "codemirror_mode": {
    "name": "ipython",
    "version": 3
   },
   "file_extension": ".py",
   "mimetype": "text/x-python",
   "name": "python",
   "nbconvert_exporter": "python",
   "pygments_lexer": "ipython3",
   "version": "3.9.7"
  },
  "orig_nbformat": 4
 },
 "nbformat": 4,
 "nbformat_minor": 2
}
